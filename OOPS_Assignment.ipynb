{
  "nbformat": 4,
  "nbformat_minor": 0,
  "metadata": {
    "colab": {
      "provenance": []
    },
    "kernelspec": {
      "name": "python3",
      "display_name": "Python 3"
    },
    "language_info": {
      "name": "python"
    }
  },
  "cells": [
    {
      "cell_type": "markdown",
      "source": [
        "#Theory \"Python OOPs Questions\""
      ],
      "metadata": {
        "id": "aWflGf6noA16"
      }
    },
    {
      "cell_type": "markdown",
      "source": [
        "1. What is Object-Oriented Programming (OOP)?\n",
        "\n",
        "ans- Object-Oriented Programming (OOP) is a programming pattern that organizes code around \"objects\" that contain both data (attributes) and methods (functions) that operate on that data.\n",
        "\n",
        "2. What is a class in OOP?\n",
        "\n",
        "ans- In Object-Oriented Programming (OOP), a class is like a blueprint or template for creating objects.\n",
        "\n",
        "3. What is an object in OOP?\n",
        "\n",
        "ans- In Object-Oriented Programming (OOP), an object is an instance of a class.\n",
        "\n",
        "4. What is the difference between abstraction and encapsulation?\n",
        "\n",
        "ans- Abstraction is about simplifying complexity by focusing on the essential aspects and hiding unnecessary details.\n",
        "Encapsulation is about bundling data and methods together and controlling access to them.\n",
        "\n",
        "5. What are dunder methods in Python?\n",
        "\n",
        "ans- In Python, dunder methods (also known as magic methods or special methods) are a set of predefined methods that have names starting and ending with double underscores (e.g., __init__, __str__, __add__). These methods provide special functionality to objects and allow them to interact with built-in language features in a defined way.\n",
        "\n",
        "6. Explain the concept of inheritance in OOP.\n",
        "\n",
        "ans- Inheritance is a powerful mechanism in OOP that enables you to create a hierarchy of classes, promote code reusability, and model real-world relationships in a more natural way.\n",
        "\n",
        "7. What is polymorphism in OOP.\n",
        "\n",
        "ans- Polymorphism is a core concept in Object-Oriented Programming (OOP) that allows objects of different classes to be treated as objects of a common type.\n",
        "\n",
        "8. How is encapsulation achieved in Python?\n",
        "\n",
        "ans- Encapsulation in Python is achieved primarily through the use of classes and access modifiers.\n",
        "\n",
        "class Car:\n",
        "  def __init__(self, color):\n",
        "        self.color = color  # Public attribute\n",
        "        self._engine_temperature = 0  # Protected attribute\n",
        "        self.__secret_code = 123  # Private attribute\n",
        "\n",
        "  def start(self):\n",
        "        # Logic to start the car\n",
        "        self._engine_temperature += 10\n",
        "\n",
        "  def get_engine_temperature(self):\n",
        "        return self._engine_temperature\n",
        "\n",
        "9. What is a constructor in Python?\n",
        "\n",
        "ans- In Python, a constructor is a special method called __init__() that is automatically called when an object of a class is created.\n",
        "\n",
        "10. What are class and static methods in Python?\n",
        "\n",
        "ans- Class methods: Work with the class itself, have access to class attributes, and are often used for class-level operations.\n",
        "\n",
        "Static methods: Are independent of both the instance and the class. They are essentially regular functions that are grouped within a class for organizational purposes.\n",
        "\n",
        "11. What is method overloading in Python?\n",
        "\n",
        "ans- In Python, method overloading is not directly supported in the same way it is in languages like Java or C++.\n",
        "\n",
        "12. What is method overriding in OOP?\n",
        "\n",
        "ans- Method Overriding is a key concept in Object-Oriented Programming (OOP) where a subclass provides its own specific implementation for a method that is already defined in its parent class.\n",
        "\n",
        "13. What is a property decorator in Python?\n",
        "\n",
        "ans- In Python, property decorators are used to define custom behavior for accessing and modifying object attributes. They provide a way to control how attributes are read, written, and deleted.\n",
        "\n",
        "14. Why is polymorphism important in OOP?\n",
        "\n",
        "ans- Polymorphism is a powerful concept that enhances the flexibility, maintainability, and reusability of object-oriented code. It allows you to write more generic and adaptable code that can work with a variety of objects in a uniform manner.\n",
        "\n",
        "15. What is an abstract class in Python?\n",
        "\n",
        "ans- Abstract classes are a powerful tool in object-oriented programming for defining common interfaces, enforcing structure, and promoting code reusability and maintainability. They play a crucial role in designing flexible and extensible software systems.\n",
        "\n",
        "16. What are the advantages of OOP?\n",
        "\n",
        "ans- Object-Oriented Programming (OOP) offers several significant advantages:\n",
        "\n",
        "  1. Modularity and Reusability.\n",
        "  2. Flexibility and Extensibility.\n",
        "  3. Data Encapsulation.\n",
        "  4. Readability and Maintainability.\n",
        "  5. Real-World Modeling.\n",
        "\n",
        "17. What is the difference between a class variable and an instance variable?\n",
        "\n",
        "ans- Class variables are like shared properties among all objects of a class.  \n",
        "      Instance variables are unique to each individual object of a class.\n",
        "\n",
        "18. What is multiple inheritance in Python?\n",
        "\n",
        "ans- Multiple Inheritance in Python allows a class to inherit from multiple parent classes. This means a single class can inherit attributes and methods from more than one base class.\n",
        "\n",
        "19. Explain the purpose of ‘’__str__’ and ‘__repr__’ ‘ methods in Python.\n",
        "\n",
        "ans- __str__ focuses on human readability.\n",
        "__repr__ focuses on unambiguous representation and recreating the object.\n",
        "\n",
        "20. What is the significance of the ‘super()’ function in Python?\n",
        "\n",
        "ans- The super() function plays a vital role in inheritance by enabling proper initialization of objects, ensuring correct method resolution order, and allowing subclasses to interact with their parent classes.\n",
        "\n",
        "21. What is the significance of the __del__ method in Python?\n",
        "\n",
        "ans- The __del__ method is a special method that is called when an object is about to be garbage collected. It provides a mechanism for performing necessary cleanup operations before the object is destroyed. However, it's essential to use it judiciously and consider alternative approaches like the with statement for more robust resource management.\n",
        "\n",
        "22. What is the difference between @staticmethod and @classmethod in Python?\n",
        "\n",
        "ans- @staticmethod\n",
        "A static method is defined within a class but does not have access to the instance (self) or the class (cls) as its first argument.\n",
        "\n",
        "  @classmethod\n",
        "A class method receives the class itself (cls) as its first argument.\n",
        "\n",
        "23. How does polymorphism work in Python with inheritance?\n",
        "\n",
        "ans- Polymorphism with inheritance in Python allows you to treat objects of different subclasses as objects of a common parent class. This enables you to write more flexible, adaptable, and maintainable code.\n",
        "\n",
        "24. What is method chaining in Python OOP?\n",
        "\n",
        "ans- Method Chaining in Python is a programming style that allows you to call multiple methods on the same object in a single, concise line of code.\n",
        "\n",
        "25. What is the purpose of the __call__ method in Python?\n",
        "\n",
        "ans- The __call__ method is a powerful tool that allows you to make instances of your classes callable, enabling you to treat them as functions and customize their behavior when called."
      ],
      "metadata": {
        "id": "0zL0WFzKoJXw"
      }
    },
    {
      "cell_type": "markdown",
      "source": [
        "#Practical Questions"
      ],
      "metadata": {
        "id": "wqASgpwNBiTe"
      }
    },
    {
      "cell_type": "markdown",
      "source": [
        "1. Create a parent class Animal with a method speak() that prints a generic message. Create a child class Dog that overrides the speak() method to print \"Bark!\"."
      ],
      "metadata": {
        "id": "E8qaXoHgBnKQ"
      }
    },
    {
      "cell_type": "code",
      "source": [
        "class Animal:\n",
        "    def speak(self):\n",
        "        print(\"Generic animal sound\")\n",
        "\n",
        "class Dog(Animal):\n",
        "    def speak(self):\n",
        "        print(\"Woof!\")\n",
        "\n",
        "\n",
        "my_dog = Dog()\n",
        "\n",
        "\n",
        "my_dog.speak()"
      ],
      "metadata": {
        "colab": {
          "base_uri": "https://localhost:8080/"
        },
        "id": "iesVc075Brbs",
        "outputId": "97de1827-65d4-4b50-cc16-29b07ffcf2bf"
      },
      "execution_count": 1,
      "outputs": [
        {
          "output_type": "stream",
          "name": "stdout",
          "text": [
            "Woof!\n"
          ]
        }
      ]
    },
    {
      "cell_type": "markdown",
      "source": [
        "2. Write a program to create an abstract class Shape with a method area(). Derive classes Circle and Rectangle from it and implement the area() method in both."
      ],
      "metadata": {
        "id": "RR_J1FmaB2o3"
      }
    },
    {
      "cell_type": "code",
      "execution_count": 2,
      "metadata": {
        "colab": {
          "base_uri": "https://localhost:8080/"
        },
        "id": "YMnIjtOInmuS",
        "outputId": "cc20e126-211f-4c38-f770-987dcbbfd6cd"
      },
      "outputs": [
        {
          "output_type": "stream",
          "name": "stdout",
          "text": [
            "Area of Circle: 78.53975\n",
            "Area of Rectangle: 12\n"
          ]
        }
      ],
      "source": [
        "from abc import ABC, abstractmethod\n",
        "\n",
        "class Shape(ABC):\n",
        "    @abstractmethod\n",
        "    def area(self):\n",
        "        pass\n",
        "\n",
        "class Circle(Shape):\n",
        "    def __init__(self, radius):\n",
        "        self.radius = radius\n",
        "\n",
        "    def area(self):\n",
        "        return 3.14159 * self.radius * self.radius\n",
        "\n",
        "class Rectangle(Shape):\n",
        "    def __init__(self, width, height):\n",
        "        self.width = width\n",
        "        self.height = height\n",
        "\n",
        "    def area(self):\n",
        "        return self.width * self.height\n",
        "\n",
        "\n",
        "circle = Circle(5)\n",
        "rectangle = Rectangle(4, 3)\n",
        "\n",
        "\n",
        "print(\"Area of Circle:\", circle.area())\n",
        "print(\"Area of Rectangle:\", rectangle.area())"
      ]
    },
    {
      "cell_type": "markdown",
      "source": [
        "3. Implement a multi-level inheritance scenario where a class Vehicle has an attribute type. Derive a class Car and further derive a class ElectricCar that adds a battery attribute."
      ],
      "metadata": {
        "id": "1E0rpL63CGMk"
      }
    },
    {
      "cell_type": "code",
      "source": [
        "class Vehicle:\n",
        "    def __init__(self, type):\n",
        "        self.type = type\n",
        "\n",
        "class Car(Vehicle):\n",
        "    def __init__(self, type, model):\n",
        "        super().__init__(type)\n",
        "        self.model = model\n",
        "\n",
        "class ElectricCar(Car):\n",
        "    def __init__(self, type, model, battery_capacity):\n",
        "        super().__init__(type, model)\n",
        "        self.battery_capacity = battery_capacity\n",
        "\n",
        "my_car = ElectricCar(\"Electric\", \"Tesla Model 3\", 75)\n",
        "\n",
        "# Access attributes\n",
        "print(my_car.type)\n",
        "print(my_car.model)\n",
        "print(my_car.battery_capacity)"
      ],
      "metadata": {
        "colab": {
          "base_uri": "https://localhost:8080/"
        },
        "id": "-L9vWuuNCAYn",
        "outputId": "816b9b0c-6c78-4913-94cb-5f239e2b82b2"
      },
      "execution_count": 3,
      "outputs": [
        {
          "output_type": "stream",
          "name": "stdout",
          "text": [
            "Electric\n",
            "Tesla Model 3\n",
            "75\n"
          ]
        }
      ]
    },
    {
      "cell_type": "markdown",
      "source": [
        "4. Implement a multi-level inheritance scenario where a class Vehicle has an attribute type. Derive a class Car and further derive a class ElectricCar that adds a battery attribute."
      ],
      "metadata": {
        "id": "imydXUGSCVPh"
      }
    },
    {
      "cell_type": "code",
      "source": [
        "class Vehicle:\n",
        "    def __init__(self, type):\n",
        "        self.type = type\n",
        "\n",
        "class Car(Vehicle):\n",
        "    def __init__(self, type, model):\n",
        "        super().__init__(type)\n",
        "        self.model = model\n",
        "\n",
        "class ElectricCar(Car):\n",
        "    def __init__(self, type, model, battery_capacity):\n",
        "        super().__init__(type, model)\n",
        "        self.battery_capacity = battery_capacity\n",
        "\n",
        "my_car = ElectricCar(\"Electric\", \"Tesla Model 3\", 75)\n",
        "\n",
        "print(my_car.type)\n",
        "print(my_car.model)\n",
        "print(my_car.battery_capacity)"
      ],
      "metadata": {
        "colab": {
          "base_uri": "https://localhost:8080/"
        },
        "id": "Pssqk7ABCTD-",
        "outputId": "dbb14e7c-afb4-42e1-aa1e-09cd3cced13a"
      },
      "execution_count": 4,
      "outputs": [
        {
          "output_type": "stream",
          "name": "stdout",
          "text": [
            "Electric\n",
            "Tesla Model 3\n",
            "75\n"
          ]
        }
      ]
    },
    {
      "cell_type": "markdown",
      "source": [
        "5. Write a program to demonstrate encapsulation by creating a class BankAccount with private attributes balance and methods to deposit, withdraw, and check balance."
      ],
      "metadata": {
        "id": "7Z3eeTHvCnvw"
      }
    },
    {
      "cell_type": "code",
      "source": [
        "class BankAccount:\n",
        "    def __init__(self, initial_balance=0):\n",
        "        self.__balance = initial_balance\n",
        "\n",
        "    def deposit(self, amount):\n",
        "        if amount > 0:\n",
        "            self.__balance += amount\n",
        "            print(f\"Deposited {amount}. New balance: {self.__balance}\")\n",
        "        else:\n",
        "            print(\"Invalid deposit amount.\")\n",
        "\n",
        "    def withdraw(self, amount):\n",
        "        if 0 < amount <= self.__balance:\n",
        "            self.__balance -= amount\n",
        "            print(f\"Withdrew {amount}. New balance: {self.__balance}\")\n",
        "        elif amount > self.__balance:\n",
        "            print(\"Insufficient funds.\")\n",
        "        else:\n",
        "            print(\"Invalid withdrawal amount.\")\n",
        "\n",
        "    def check_balance(self):\n",
        "        print(f\"Current balance: {self.__balance}\")\n",
        "\n",
        "my_account = BankAccount(1000)\n",
        "\n",
        "my_account.deposit(500)\n",
        "my_account.withdraw(200)\n",
        "my_account.check_balance()"
      ],
      "metadata": {
        "colab": {
          "base_uri": "https://localhost:8080/"
        },
        "id": "JvER-a7JCmAM",
        "outputId": "e772a7c0-bbd7-4b44-e79f-866fd617d18f"
      },
      "execution_count": 5,
      "outputs": [
        {
          "output_type": "stream",
          "name": "stdout",
          "text": [
            "Deposited 500. New balance: 1500\n",
            "Withdrew 200. New balance: 1300\n",
            "Current balance: 1300\n"
          ]
        }
      ]
    },
    {
      "cell_type": "markdown",
      "source": [
        "6. Demonstrate runtime polymorphism using a method play() in a base class Instrument. Derive classes Guitar and Piano that implement their own version of play()."
      ],
      "metadata": {
        "id": "Ktxo-xa9C2Z-"
      }
    },
    {
      "cell_type": "code",
      "source": [
        "class Instrument:\n",
        "    def play(self):\n",
        "        print(\"Generic instrument sound\")\n",
        "\n",
        "class Guitar(Instrument):\n",
        "    def play(self):\n",
        "        print(\"Playing guitar: Strumming...\")\n",
        "\n",
        "class Piano(Instrument):\n",
        "    def play(self):\n",
        "        print(\"Playing piano: Tinkling keys...\")\n",
        "\n",
        "guitar = Guitar()\n",
        "piano = Piano()\n",
        "\n",
        "for instrument in [guitar, piano]:\n",
        "    instrument.play()"
      ],
      "metadata": {
        "colab": {
          "base_uri": "https://localhost:8080/"
        },
        "id": "-DBpDFm2CyGS",
        "outputId": "e18146d1-63b2-46d5-b006-962fa44dfe74"
      },
      "execution_count": 6,
      "outputs": [
        {
          "output_type": "stream",
          "name": "stdout",
          "text": [
            "Playing guitar: Strumming...\n",
            "Playing piano: Tinkling keys...\n"
          ]
        }
      ]
    },
    {
      "cell_type": "markdown",
      "source": [
        "7. Create a class MathOperations with a class method add_numbers() to add two numbers and a static method subtract_numbers() to subtract two numbers."
      ],
      "metadata": {
        "id": "meL6Vn-CDE8b"
      }
    },
    {
      "cell_type": "code",
      "source": [
        "class MathOperations:\n",
        "\n",
        "    @classmethod\n",
        "    def add_numbers(cls, num1, num2):\n",
        "        \"\"\"Class method to add two numbers\"\"\"\n",
        "        return num1 + num2\n",
        "\n",
        "    @staticmethod\n",
        "    def subtract_numbers(num1, num2):\n",
        "        \"\"\"Static method to subtract two numbers\"\"\"\n",
        "        return num1 - num2\n",
        "\n",
        "result_add = MathOperations.add_numbers(10, 5)\n",
        "print(\"Addition:\", result_add)\n",
        "\n",
        "result_subtract = MathOperations.subtract_numbers(10, 5)\n",
        "print(\"Subtraction:\", result_subtract)"
      ],
      "metadata": {
        "colab": {
          "base_uri": "https://localhost:8080/"
        },
        "id": "iryzBOMVDA5U",
        "outputId": "8a8efa0c-55b1-4421-e0f3-de504483e304"
      },
      "execution_count": 7,
      "outputs": [
        {
          "output_type": "stream",
          "name": "stdout",
          "text": [
            "Addition: 15\n",
            "Subtraction: 5\n"
          ]
        }
      ]
    },
    {
      "cell_type": "markdown",
      "source": [
        "8. Implement a class Person with a class method to count the total number of persons created."
      ],
      "metadata": {
        "id": "NYoPMeCGDVdp"
      }
    },
    {
      "cell_type": "code",
      "source": [
        "class Person:\n",
        "    \"\"\"\n",
        "    A class to represent a person.\n",
        "    \"\"\"\n",
        "    _person_count = 0\n",
        "\n",
        "    def __init__(self, name):\n",
        "        \"\"\"\n",
        "        Initializes a Person object.\n",
        "\n",
        "        Args:\n",
        "            name (str): The name of the person.\n",
        "        \"\"\"\n",
        "        self.name = name\n",
        "        Person._person_count += 1\n",
        "\n",
        "    @classmethod\n",
        "    def get_person_count(cls):\n",
        "        \"\"\"\n",
        "        Class method to get the total number of persons created.\n",
        "\n",
        "        Returns:\n",
        "            int: The total number of persons created.\n",
        "        \"\"\"\n",
        "        return cls._person_count\n",
        "\n",
        "person1 = Person(\"Alice\")\n",
        "person2 = Person(\"Bob\")\n",
        "person3 = Person(\"Charlie\")\n",
        "\n",
        "total_persons = Person.get_person_count()\n",
        "\n",
        "print(f\"Total number of persons created: {total_persons}\")"
      ],
      "metadata": {
        "colab": {
          "base_uri": "https://localhost:8080/"
        },
        "id": "n5pbjA1_DUef",
        "outputId": "5b0258cb-65aa-465c-bf12-4db43b74b933"
      },
      "execution_count": 8,
      "outputs": [
        {
          "output_type": "stream",
          "name": "stdout",
          "text": [
            "Total number of persons created: 3\n"
          ]
        }
      ]
    },
    {
      "cell_type": "markdown",
      "source": [
        "9. Write a class Fraction with attributes numerator and denominator. Override the str method to display the fraction as \"numerator/denominator\"."
      ],
      "metadata": {
        "id": "dPTgFkTzDh5H"
      }
    },
    {
      "cell_type": "code",
      "source": [
        "class Fraction:\n",
        "    def __init__(self, numerator, denominator):\n",
        "        self.numerator = numerator\n",
        "        self.denominator = denominator\n",
        "\n",
        "    def __str__(self):\n",
        "        return f\"{self.numerator}/{self.denominator}\"\n",
        "\n",
        "my_fraction = Fraction(3, 4)\n",
        "\n",
        "print(my_fraction)"
      ],
      "metadata": {
        "colab": {
          "base_uri": "https://localhost:8080/"
        },
        "id": "XlWdjgdBDgnP",
        "outputId": "d1aa7267-5a2d-4557-f001-7e395b45dbbf"
      },
      "execution_count": 9,
      "outputs": [
        {
          "output_type": "stream",
          "name": "stdout",
          "text": [
            "3/4\n"
          ]
        }
      ]
    },
    {
      "cell_type": "markdown",
      "source": [
        "10. Demonstrate operator overloading by creating a class Vector and overriding the add method to add two vectors."
      ],
      "metadata": {
        "id": "3vJv8r9vDrec"
      }
    },
    {
      "cell_type": "code",
      "source": [
        "class Vector:\n",
        "    def __init__(self, x, y):\n",
        "        self.x = x\n",
        "        self.y = y\n",
        "\n",
        "    def __add__(self, other):\n",
        "        \"\"\"\n",
        "        Overloads the + operator for vector addition.\n",
        "\n",
        "        Args:\n",
        "            other: Another Vector object.\n",
        "\n",
        "        Returns:\n",
        "            A new Vector object representing the sum of the two vectors.\n",
        "        \"\"\"\n",
        "        return Vector(self.x + other.x, self.y + other.y)\n",
        "\n",
        "    def __str__(self):\n",
        "        return f\"Vector({self.x}, {self.y})\"\n",
        "\n",
        "v1 = Vector(2, 3)\n",
        "v2 = Vector(1, 4)\n",
        "\n",
        "v3 = v1 + v2\n",
        "\n",
        "print(v3)"
      ],
      "metadata": {
        "colab": {
          "base_uri": "https://localhost:8080/"
        },
        "id": "mnOQWh-zDqae",
        "outputId": "63960438-ef78-49a6-cb9c-1e3858fc68e3"
      },
      "execution_count": 10,
      "outputs": [
        {
          "output_type": "stream",
          "name": "stdout",
          "text": [
            "Vector(3, 7)\n"
          ]
        }
      ]
    },
    {
      "cell_type": "markdown",
      "source": [
        "11. Create a class Person with attributes name and age. Add a method greet() that prints \"Hello, my name is {name} and I am {age} years old.\""
      ],
      "metadata": {
        "id": "V-tyaSDeEWTx"
      }
    },
    {
      "cell_type": "code",
      "source": [
        "class Person:\n",
        "    def __init__(self, name, age):\n",
        "        self.name = name\n",
        "        self.age = age\n",
        "\n",
        "    def greet(self):\n",
        "        print(f\"Hello, my name is {self.name} and I am {self.age} years old.\")\n",
        "\n",
        "person = Person(\"Aena\", 26)\n",
        "\n",
        "person.greet()"
      ],
      "metadata": {
        "colab": {
          "base_uri": "https://localhost:8080/"
        },
        "id": "CATTNXqFEMPa",
        "outputId": "06e4e4c9-4bb8-487f-8a71-df82e931c189"
      },
      "execution_count": 12,
      "outputs": [
        {
          "output_type": "stream",
          "name": "stdout",
          "text": [
            "Hello, my name is Aena and I am 26 years old.\n"
          ]
        }
      ]
    },
    {
      "cell_type": "markdown",
      "source": [
        "12. Implement a class Student with attributes name and grades. Create a method average_grade() to compute the average of the grades."
      ],
      "metadata": {
        "id": "uVQkEcBiEu1j"
      }
    },
    {
      "cell_type": "code",
      "source": [
        "class Student:\n",
        "    def __init__(self, name, grades):\n",
        "        self.name = name\n",
        "        self.grades = grades\n",
        "\n",
        "    def average_grade(self):\n",
        "        if len(self.grades) == 0:\n",
        "            return 0\n",
        "        return sum(self.grades) / len(self.grades)\n",
        "\n",
        "student = Student(\"Aena\", [90, 85, 92, 95])\n",
        "\n",
        "average = student.average_grade()\n",
        "print(f\"Average grade for {student.name}: {average}\")"
      ],
      "metadata": {
        "colab": {
          "base_uri": "https://localhost:8080/"
        },
        "id": "a16ilAKxEf84",
        "outputId": "a5fc2b0d-015e-46df-84eb-3f4e667e716a"
      },
      "execution_count": 15,
      "outputs": [
        {
          "output_type": "stream",
          "name": "stdout",
          "text": [
            "Average grade for Aena: 90.5\n"
          ]
        }
      ]
    },
    {
      "cell_type": "markdown",
      "source": [
        "13. Create a class Rectangle with methods set_dimensions() to set the dimensions and area() to calculate the area."
      ],
      "metadata": {
        "id": "uAtERdKgE9pJ"
      }
    },
    {
      "cell_type": "code",
      "source": [
        "class Rectangle:\n",
        "    def __init__(self):\n",
        "        self.width = 0\n",
        "        self.height = 0\n",
        "\n",
        "    def set_dimensions(self, width, height):\n",
        "        self.width = width\n",
        "        self.height = height\n",
        "\n",
        "    def area(self):\n",
        "        return self.width * self.height\n",
        "\n",
        "rectangle = Rectangle()\n",
        "\n",
        "rectangle.set_dimensions(5, 3)\n",
        "\n",
        "print(\"Area of the rectangle:\", rectangle.area())"
      ],
      "metadata": {
        "colab": {
          "base_uri": "https://localhost:8080/"
        },
        "id": "arSr42jwE0Ya",
        "outputId": "2429e968-2507-489d-ec22-4b52622aa08d"
      },
      "execution_count": 16,
      "outputs": [
        {
          "output_type": "stream",
          "name": "stdout",
          "text": [
            "Area of the rectangle: 15\n"
          ]
        }
      ]
    },
    {
      "cell_type": "markdown",
      "source": [
        "14. Create a class Employee with a method calculate_salary() that computes the salary based on hours worked and hourly rate. Create a derived class Manager that adds a bonus to the salary."
      ],
      "metadata": {
        "id": "qEjNu_o5FWFH"
      }
    },
    {
      "cell_type": "code",
      "source": [
        "class Employee:\n",
        "    def __init__(self, name, hours_worked, hourly_rate):\n",
        "        self.name = name\n",
        "        self.hours_worked = hours_worked\n",
        "        self.hourly_rate = hourly_rate\n",
        "\n",
        "    def calculate_salary(self):\n",
        "        return self.hours_worked * self.hourly_rate\n",
        "\n",
        "class Manager(Employee):\n",
        "    def __init__(self, name, hours_worked, hourly_rate, bonus):\n",
        "        super().__init__(name, hours_worked, hourly_rate)\n",
        "        self.bonus = bonus\n",
        "\n",
        "    def calculate_salary(self):\n",
        "        return super().calculate_salary() + self.bonus\n",
        "\n",
        "employee = Employee(\"Aena Majumder\", 56, 295)\n",
        "manager = Manager(\"Shruti Hasan\", 60, 375, 5000)\n",
        "\n",
        "print(f\"{employee.name}'s salary: {employee.calculate_salary()} INR\")\n",
        "print(f\"{manager.name}'s salary: {manager.calculate_salary()} INR\")"
      ],
      "metadata": {
        "colab": {
          "base_uri": "https://localhost:8080/"
        },
        "id": "2bp0l2hkFPTV",
        "outputId": "c1be8397-ca10-4070-e0cc-738bdecb3c19"
      },
      "execution_count": 20,
      "outputs": [
        {
          "output_type": "stream",
          "name": "stdout",
          "text": [
            "Aena Majumder's salary: 16520 INR\n",
            "Shruti Hasan's salary: 27500 INR\n"
          ]
        }
      ]
    },
    {
      "cell_type": "markdown",
      "source": [
        "15. Create a class Product with attributes name, price, and quantity. Implement a method total_price() that calculates the total price of the product."
      ],
      "metadata": {
        "id": "Hn7pkDI1GFt7"
      }
    },
    {
      "cell_type": "code",
      "source": [
        "class Product:\n",
        "    def __init__(self, name, price, quantity):\n",
        "        self.name = name\n",
        "        self.price = price\n",
        "        self.quantity = quantity\n",
        "\n",
        "    def total_price(self):\n",
        "        return self.price * self.quantity\n",
        "\n",
        "product1 = Product(\"Laptop\", 80000, 1)\n",
        "product2 = Product(\"Phone\", 50000, 2)\n",
        "\n",
        "print(f\"Total price of {product1.name}: {product1.total_price()} INR\")\n",
        "print(f\"Total price of {product2.name}: {product2.total_price()} INR\")"
      ],
      "metadata": {
        "colab": {
          "base_uri": "https://localhost:8080/"
        },
        "id": "LzZD19c9Fyg1",
        "outputId": "9d74a7a6-dd61-47ca-951c-5d7998913fb8"
      },
      "execution_count": 18,
      "outputs": [
        {
          "output_type": "stream",
          "name": "stdout",
          "text": [
            "Total price of Laptop: 80000 INR\n",
            "Total price of Phone: 100000 INR\n"
          ]
        }
      ]
    },
    {
      "cell_type": "markdown",
      "source": [
        "16. Create a class Animal with an abstract method sound(). Create two derived classes Cow and Sheep that implement the sound() method."
      ],
      "metadata": {
        "id": "hOaqQyxPHUM-"
      }
    },
    {
      "cell_type": "code",
      "source": [
        "from abc import ABC, abstractmethod\n",
        "\n",
        "class Animal(ABC):\n",
        "    @abstractmethod\n",
        "    def sound(self):\n",
        "        pass\n",
        "\n",
        "class Cow(Animal):\n",
        "    def sound(self):\n",
        "        print(\"Moooo\")\n",
        "\n",
        "class Sheep(Animal):\n",
        "    def sound(self):\n",
        "        print(\"Mmaaa\")\n",
        "\n",
        "cow = Cow()\n",
        "sheep = Sheep()\n",
        "\n",
        "cow.sound()\n",
        "sheep.sound()"
      ],
      "metadata": {
        "colab": {
          "base_uri": "https://localhost:8080/"
        },
        "id": "KFJXiw2gGd8_",
        "outputId": "37a857b3-2f58-41a4-9591-2fb6cc6af210"
      },
      "execution_count": 21,
      "outputs": [
        {
          "output_type": "stream",
          "name": "stdout",
          "text": [
            "Moooo\n",
            "Mmaaa\n"
          ]
        }
      ]
    },
    {
      "cell_type": "markdown",
      "source": [
        "17. Create a class Book with attributes title, author, and year_published. Add a method get_book_info() that returns a formatted string with the book's details."
      ],
      "metadata": {
        "id": "vscjwdkUH8K9"
      }
    },
    {
      "cell_type": "code",
      "source": [
        "class Book:\n",
        "    def __init__(self, title, author, year_published):\n",
        "        self.title = title\n",
        "        self.author = author\n",
        "        self.year_published = year_published\n",
        "\n",
        "    def get_book_info(self):\n",
        "        return f\"Title: {self.title}, Author: {self.author}, Published: {self.year_published}\"\n",
        "\n",
        "book = Book(\"Lords of Finance: The Bankers Who Broke the World\", \"Liaquat Ahamed\", 2009)\n",
        "\n",
        "book_info = book.get_book_info()\n",
        "print(book_info)"
      ],
      "metadata": {
        "colab": {
          "base_uri": "https://localhost:8080/"
        },
        "id": "TqwIbHReHz5A",
        "outputId": "d1c51aca-665d-4086-ecd7-32a5d9474131"
      },
      "execution_count": 22,
      "outputs": [
        {
          "output_type": "stream",
          "name": "stdout",
          "text": [
            "Title: Lords of Finance: The Bankers Who Broke the World, Author: Liaquat Ahamed, Published: 2009\n"
          ]
        }
      ]
    },
    {
      "cell_type": "markdown",
      "source": [
        "18. Create a class House with attributes address and price. Create a derived class Mansion that adds an attribute number_of_rooms."
      ],
      "metadata": {
        "id": "X_s1sjqpIsuk"
      }
    },
    {
      "cell_type": "code",
      "source": [
        "class House:\n",
        "    def __init__(self, address, price):\n",
        "        self.address = address\n",
        "        self.price = price\n",
        "\n",
        "class Mansion(House):\n",
        "    def __init__(self, address, price, number_of_rooms):\n",
        "        super().__init__(address, price)\n",
        "        self.number_of_rooms = number_of_rooms\n",
        "\n",
        "house = House(\"123 Main St\", 2000000)\n",
        "\n",
        "mansion = Mansion(\"555 Park Streat\", 10000000, 10)\n",
        "\n",
        "print(f\"House address: {house.address}, Price: {house.price} INR\")\n",
        "print(f\"Mansion address: {mansion.address}, Price: {mansion.price} INR, Rooms: {mansion.number_of_rooms}\")"
      ],
      "metadata": {
        "colab": {
          "base_uri": "https://localhost:8080/"
        },
        "id": "5W6Oa3GJIpww",
        "outputId": "e2d89942-36be-467c-ed9c-c4a2f0aa4587"
      },
      "execution_count": 26,
      "outputs": [
        {
          "output_type": "stream",
          "name": "stdout",
          "text": [
            "House address: 123 Main St, Price: 2000000 INR\n",
            "Mansion address: 555 Park Streat, Price: 10000000 INR, Rooms: 10\n"
          ]
        }
      ]
    },
    {
      "cell_type": "code",
      "source": [],
      "metadata": {
        "id": "WkU411qpJFwz"
      },
      "execution_count": null,
      "outputs": []
    }
  ]
}